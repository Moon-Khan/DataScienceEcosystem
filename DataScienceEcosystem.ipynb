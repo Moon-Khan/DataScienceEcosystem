{
 "cells": [
  {
   "cell_type": "markdown",
   "id": "42d35b95-6461-4426-a0c0-51e43a8cd7c9",
   "metadata": {},
   "source": [
    "# Data Science Tools and Ecosystem"
   ]
  },
  {
   "cell_type": "markdown",
   "id": "3f4c7c62-9302-46f7-996f-f268e58367e2",
   "metadata": {},
   "source": [
    "## In this notebook, Data Science Tools and Ecosystem are summarized."
   ]
  },
  {
   "cell_type": "markdown",
   "id": "96957cc7-cbee-46e5-b292-b72c9577f661",
   "metadata": {},
   "source": [
    "### Some of the popular languages that Data Scientists use are:"
   ]
  },
  {
   "cell_type": "markdown",
   "id": "191ac329-34fe-47ca-b764-9648f076fcb3",
   "metadata": {},
   "source": [
    "#### 1. Python\n",
    "#### 2. R\n",
    "#### 3. SQL\n",
    "#### 4. Julia"
   ]
  },
  {
   "cell_type": "markdown",
   "id": "8a4352c8-5b80-4640-9ea6-94af6eaf9cf3",
   "metadata": {},
   "source": [
    "### Some of the commonly used libraries used by Data Scientists include:\n"
   ]
  },
  {
   "cell_type": "markdown",
   "id": "53e53192-bf6a-4ec2-8978-84ee16baa974",
   "metadata": {},
   "source": [
    "#### 1. NumPy\n",
    "#### 2. Pandas\n",
    "#### 3. Matplotlib\n",
    "#### 4. scikit-learn"
   ]
  },
  {
   "cell_type": "markdown",
   "id": "bc47a7e9-b53a-4390-9553-2924b9463528",
   "metadata": {},
   "source": [
    "### | Data Science Tools |\n",
    "#### | Jupyter Notebook |\n",
    "#### | RStudio |\n",
    "#### | Apache Zeppelin |"
   ]
  },
  {
   "cell_type": "markdown",
   "id": "f0499bac-38f1-41f8-843e-8c91f939342a",
   "metadata": {},
   "source": [
    "### Below are a few examples of evaluating arithmetic expressions in Python.\n"
   ]
  },
  {
   "cell_type": "markdown",
   "id": "9b1bc45f-42a7-4b6e-baba-9bfd71805ff1",
   "metadata": {},
   "source": [
    "#### This a simple arithmetic expression to mutiply then add integers\n"
   ]
  },
  {
   "cell_type": "code",
   "execution_count": null,
   "id": "07666d41-217d-426c-9802-7be35a60d123",
   "metadata": {},
   "outputs": [],
   "source": [
    "(3*4)+5"
   ]
  },
  {
   "cell_type": "markdown",
   "id": "fe752ca4-3b04-41d9-a70e-6c7ef9a01f0d",
   "metadata": {},
   "source": [
    " #### This will convert 200 minutes to hours by diving by 60"
   ]
  },
  {
   "cell_type": "code",
   "execution_count": 1,
   "id": "d15baf8c-7863-4a3c-84d8-46bebf46d410",
   "metadata": {
    "tags": []
   },
   "outputs": [
    {
     "data": {
      "text/plain": [
       "3.3333333333333335"
      ]
     },
     "execution_count": 1,
     "metadata": {},
     "output_type": "execute_result"
    }
   ],
   "source": [
    "200/60"
   ]
  },
  {
   "cell_type": "markdown",
   "id": "9fd34e01-4e02-4f11-b9a8-f6c219faa001",
   "metadata": {},
   "source": [
    "### **Objectives**"
   ]
  },
  {
   "cell_type": "markdown",
   "id": "4deacfa4-020b-4a53-abd5-4dc0b73da3a1",
   "metadata": {},
   "source": [
    "### List popular languages for Data Science"
   ]
  },
  {
   "cell_type": "code",
   "execution_count": null,
   "id": "1949ee26-cd7e-4b5a-bfb3-1a7a9eb929bb",
   "metadata": {},
   "outputs": [],
   "source": [
    "#### -Python\n",
    "#### -Julia\n",
    "#### -Scala\n",
    "#### -Pyth\n",
    "#### -Python"
   ]
  }
 ],
 "metadata": {
  "kernelspec": {
   "display_name": "Python",
   "language": "python",
   "name": "conda-env-python-py"
  },
  "language_info": {
   "codemirror_mode": {
    "name": "ipython",
    "version": 3
   },
   "file_extension": ".py",
   "mimetype": "text/x-python",
   "name": "python",
   "nbconvert_exporter": "python",
   "pygments_lexer": "ipython3",
   "version": "3.7.12"
  }
 },
 "nbformat": 4,
 "nbformat_minor": 5
}
